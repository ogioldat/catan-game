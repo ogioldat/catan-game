{
 "cells": [
  {
   "cell_type": "markdown",
   "metadata": {},
   "source": [
    "# Reinforcement learning bots"
   ]
  },
  {
   "cell_type": "code",
   "execution_count": 9,
   "metadata": {},
   "outputs": [
    {
     "name": "stdout",
     "output_type": "stream",
     "text": [
      "The autoreload extension is already loaded. To reload it, use:\n",
      "  %reload_ext autoreload\n"
     ]
    }
   ],
   "source": [
    "import sys\n",
    "import os\n",
    "\n",
    "project_root = os.path.abspath('../../..')\n",
    "if project_root not in sys.path:\n",
    "    sys.path.insert(0, project_root)\n",
    "    \n",
    "%load_ext autoreload\n",
    "%autoreload 2\n",
    "\n",
    "from matplotlib import pyplot as plt\n",
    "\n",
    "%config InlineBackend.figure_formats = ['svg']\n",
    "plt.style.use(\"ggplot\")\n"
   ]
  },
  {
   "cell_type": "markdown",
   "metadata": {},
   "source": [
    "## Crafting the environment\n",
    "\n",
    "- How to represent observation space?\n",
    "  "
   ]
  },
  {
   "cell_type": "code",
   "execution_count": null,
   "metadata": {},
   "outputs": [
    {
     "ename": "TypeError",
     "evalue": "Tuple.__init__() missing 1 required positional argument: 'spaces'",
     "output_type": "error",
     "traceback": [
      "\u001b[31m---------------------------------------------------------------------------\u001b[39m",
      "\u001b[31mTypeError\u001b[39m                                 Traceback (most recent call last)",
      "\u001b[36mCell\u001b[39m\u001b[36m \u001b[39m\u001b[32mIn[17]\u001b[39m\u001b[32m, line 14\u001b[39m\n\u001b[32m      5\u001b[39m N_TILES = \u001b[38;5;28mlen\u001b[39m(DEFAULT_MAP.land_tiles)\n\u001b[32m      6\u001b[39m N_NODES = \u001b[38;5;28mlen\u001b[39m(DEFAULT_MAP.land_nodes)\n\u001b[32m      8\u001b[39m obs_space = gym.spaces.Dict({\n\u001b[32m      9\u001b[39m     \u001b[38;5;66;03m# \"agent\": gym.spaces.\u001b[39;00m\n\u001b[32m     10\u001b[39m \u001b[38;5;250m    \u001b[39m\u001b[33;03m\"\"\"\u001b[39;00m\n\u001b[32m     11\u001b[39m \u001b[33;03m    Goal must represent agent's victory state, there are many possible ways to win\u001b[39;00m\n\u001b[32m     12\u001b[39m \u001b[33;03m    TODO: Can I use goal to determine possible player strategy?\u001b[39;00m\n\u001b[32m     13\u001b[39m \u001b[33;03m    \"\"\"\u001b[39;00m\n\u001b[32m---> \u001b[39m\u001b[32m14\u001b[39m     \u001b[33m\"\u001b[39m\u001b[33mgoal\u001b[39m\u001b[33m\"\u001b[39m: \u001b[43mgym\u001b[49m\u001b[43m.\u001b[49m\u001b[43mspaces\u001b[49m\u001b[43m.\u001b[49m\u001b[43mTuple\u001b[49m\u001b[43m(\u001b[49m\u001b[43m)\u001b[49m,\n\u001b[32m     15\u001b[39m \n\u001b[32m     16\u001b[39m     \u001b[33m\"\u001b[39m\u001b[33mboard\u001b[39m\u001b[33m\"\u001b[39m: gym.spaces.Dict({\n\u001b[32m     17\u001b[39m         \u001b[33m\"\u001b[39m\u001b[33mrobber_pos\u001b[39m\u001b[33m\"\u001b[39m: gym.spaces.Discrete(N_TILES),\n\u001b[32m     18\u001b[39m         \u001b[38;5;66;03m# \"tiles\": gym.spaces.Box(low=0, high=N_TILES, shape=(N_TILES))\u001b[39;00m\n\u001b[32m     19\u001b[39m         \u001b[38;5;66;03m# 0 -- empty, 1 -- settlement, 2 -- road, 3 -- city\u001b[39;00m\n\u001b[32m     20\u001b[39m         \u001b[33m\"\u001b[39m\u001b[33mnodes\u001b[39m\u001b[33m\"\u001b[39m: gym.spaces.Box(low=\u001b[32m0\u001b[39m, high=\u001b[32m3\u001b[39m, shape=(N_NODES))\n\u001b[32m     21\u001b[39m     }),\n\u001b[32m     22\u001b[39m \n\u001b[32m     23\u001b[39m \u001b[38;5;250m    \u001b[39m\u001b[33;03m\"\"\"\u001b[39;00m\n\u001b[32m     24\u001b[39m \u001b[33;03m    Agent's current state\u001b[39;00m\n\u001b[32m     25\u001b[39m \u001b[33;03m    \"\"\"\u001b[39;00m\n\u001b[32m     26\u001b[39m     \u001b[33m\"\u001b[39m\u001b[33magent\u001b[39m\u001b[33m\"\u001b[39m: gym.spaces.Dict()\n\u001b[32m     27\u001b[39m })\n",
      "\u001b[31mTypeError\u001b[39m: Tuple.__init__() missing 1 required positional argument: 'spaces'"
     ]
    }
   ],
   "source": [
    "import gymnasium as gym\n",
    "import numpy as np\n",
    "from catan.core.models.map import DEFAULT_MAP\n",
    "\n",
    "N_TILES = len(DEFAULT_MAP.land_tiles)\n",
    "N_NODES = len(DEFAULT_MAP.land_nodes)\n",
    "\n",
    "obs_space = gym.spaces.Dict({\n",
    "    # \"agent\": gym.spaces.\n",
    "    \"\"\"\n",
    "    Goal must represent agent's victory state, there are many possible ways to win\n",
    "    TODO: Can I use goal to determine possible player strategy?\n",
    "    \"\"\"\n",
    "    \"goal\": gym.spaces.Tuple(),\n",
    "    \n",
    "    \"board\": gym.spaces.Dict({\n",
    "        \"robber_pos\": gym.spaces.Discrete(N_TILES),\n",
    "        \"tiles\": gym.spaces.Box(low=0, high=N_TILES, shape=(N_TILES)),\n",
    "        # 0 -- empty, 1 -- settlement, 2 -- road, 3 -- city\n",
    "        \"nodes\": gym.spaces.Box(low=0, high=3, shape=(N_NODES, ), dtype=np.uint8),\n",
    "        \n",
    "    }),\n",
    "    \n",
    "    \"\"\"\n",
    "    Agent's current state\n",
    "    \"\"\"\n",
    "    \"player\": gym.spaces.Dict()\n",
    "})"
   ]
  },
  {
   "cell_type": "code",
   "execution_count": 20,
   "metadata": {},
   "outputs": [
    {
     "data": {
      "text/plain": [
       "Box(0, 3, (54,), uint8)"
      ]
     },
     "execution_count": 20,
     "metadata": {},
     "output_type": "execute_result"
    }
   ],
   "source": [
    "gym.spaces.Box(low=0, high=3, shape=(N_NODES, ), dtype=np.uint8)"
   ]
  }
 ],
 "metadata": {
  "kernelspec": {
   "display_name": "Python 3",
   "language": "python",
   "name": "python3"
  },
  "language_info": {
   "codemirror_mode": {
    "name": "ipython",
    "version": 3
   },
   "file_extension": ".py",
   "mimetype": "text/x-python",
   "name": "python",
   "nbconvert_exporter": "python",
   "pygments_lexer": "ipython3",
   "version": "3.11.12"
  }
 },
 "nbformat": 4,
 "nbformat_minor": 2
}
