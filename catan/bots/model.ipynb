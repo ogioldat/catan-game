{
 "cells": [
  {
   "cell_type": "code",
   "execution_count": 1,
   "metadata": {},
   "outputs": [],
   "source": [
    "import sys\n",
    "import os\n",
    "\n",
    "project_root = os.path.abspath('../..')\n",
    "if project_root not in sys.path:\n",
    "    sys.path.insert(0, project_root)"
   ]
  },
  {
   "cell_type": "code",
   "execution_count": 2,
   "metadata": {},
   "outputs": [],
   "source": [
    "from catan.core import Game\n",
    "from catan.core.models.player import RandomPlayer, Color"
   ]
  },
  {
   "cell_type": "code",
   "execution_count": 11,
   "metadata": {},
   "outputs": [
    {
     "data": {
      "text/plain": [
       "[Action(color=<Color.BLUE: 'BLUE'>, action_type=<ActionType.END_TURN: 'END_TURN'>, value=None)]"
      ]
     },
     "execution_count": 11,
     "metadata": {},
     "output_type": "execute_result"
    }
   ],
   "source": [
    "players = [\n",
    "    RandomPlayer(\n",
    "        color=Color.BLUE,\n",
    "        is_bot=True\n",
    "    ),\n",
    "    RandomPlayer(\n",
    "        color=Color.RED,\n",
    "        is_bot=True\n",
    "    )\n",
    "]\n",
    "\n",
    "game = Game(players=players, seed=4)\n",
    "\n",
    "game.play()\n",
    "\n",
    "game.state.playable_actions"
   ]
  },
  {
   "cell_type": "code",
   "execution_count": 9,
   "metadata": {},
   "outputs": [
    {
     "name": "stdout",
     "output_type": "stream",
     "text": [
      "Action(color=<Color.BLUE: 'BLUE'>, action_type=<ActionType.BUILD_SETTLEMENT: 'BUILD_SETTLEMENT'>, value=7)\n",
      "Action(color=<Color.BLUE: 'BLUE'>, action_type=<ActionType.BUILD_ROAD: 'BUILD_ROAD'>, value=(6, 7))\n",
      "Action(color=<Color.RED: 'RED'>, action_type=<ActionType.BUILD_SETTLEMENT: 'BUILD_SETTLEMENT'>, value=11)\n",
      "Action(color=<Color.RED: 'RED'>, action_type=<ActionType.BUILD_ROAD: 'BUILD_ROAD'>, value=(11, 32))\n",
      "Action(color=<Color.RED: 'RED'>, action_type=<ActionType.BUILD_SETTLEMENT: 'BUILD_SETTLEMENT'>, value=15)\n",
      "Action(color=<Color.RED: 'RED'>, action_type=<ActionType.BUILD_ROAD: 'BUILD_ROAD'>, value=(4, 15))\n",
      "Action(color=<Color.BLUE: 'BLUE'>, action_type=<ActionType.BUILD_SETTLEMENT: 'BUILD_SETTLEMENT'>, value=50)\n",
      "Action(color=<Color.BLUE: 'BLUE'>, action_type=<ActionType.BUILD_ROAD: 'BUILD_ROAD'>, value=(49, 50))\n",
      "Action(color=<Color.BLUE: 'BLUE'>, action_type=<ActionType.ROLL: 'ROLL'>, value=None)\n",
      "Action(color=<Color.BLUE: 'BLUE'>, action_type=<ActionType.END_TURN: 'END_TURN'>, value=None)\n",
      "Action(color=<Color.RED: 'RED'>, action_type=<ActionType.ROLL: 'ROLL'>, value=None)\n",
      "Action(color=<Color.RED: 'RED'>, action_type=<ActionType.MOVE_ROBBER: 'MOVE_ROBBER'>, value=((0, -2, 2), None, None))\n",
      "Action(color=<Color.RED: 'RED'>, action_type=<ActionType.END_TURN: 'END_TURN'>, value=None)\n",
      "Action(color=<Color.BLUE: 'BLUE'>, action_type=<ActionType.ROLL: 'ROLL'>, value=None)\n",
      "Action(color=<Color.BLUE: 'BLUE'>, action_type=<ActionType.END_TURN: 'END_TURN'>, value=None)\n",
      "Action(color=<Color.RED: 'RED'>, action_type=<ActionType.ROLL: 'ROLL'>, value=None)\n",
      "Action(color=<Color.RED: 'RED'>, action_type=<ActionType.END_TURN: 'END_TURN'>, value=None)\n",
      "Action(color=<Color.BLUE: 'BLUE'>, action_type=<ActionType.ROLL: 'ROLL'>, value=None)\n",
      "Action(color=<Color.BLUE: 'BLUE'>, action_type=<ActionType.END_TURN: 'END_TURN'>, value=None)\n",
      "Action(color=<Color.RED: 'RED'>, action_type=<ActionType.ROLL: 'ROLL'>, value=None)\n"
     ]
    }
   ],
   "source": [
    "import catan.bots.mcts as mcts\n",
    "\n",
    "players = [\n",
    "    RandomPlayer(\n",
    "        color=Color.BLUE,\n",
    "        is_bot=True\n",
    "    ),\n",
    "    RandomPlayer(\n",
    "        color=Color.RED,\n",
    "        is_bot=True\n",
    "    )\n",
    "]\n",
    "current_game_state: mcts.MCTSGameState = mcts.MCTSCatanGameState(\n",
    "    players=players,\n",
    "    seed=10\n",
    ")\n",
    "mcts_agent = mcts.MCTS(exploration_constant=1.414)\n",
    "\n",
    "num_mcts_simulations = 10\n",
    "\n",
    "\n",
    "for _ in range(20):\n",
    "    player_to_move = current_game_state.get_current_player()\n",
    "    best_action = mcts_agent.simulate(current_game_state, num_mcts_simulations)\n",
    "    current_game_state = current_game_state. take_action(best_action)\n",
    "    \n",
    "    print(best_action)"
   ]
  }
 ],
 "metadata": {
  "kernelspec": {
   "display_name": "Python 3",
   "language": "python",
   "name": "python3"
  },
  "language_info": {
   "codemirror_mode": {
    "name": "ipython",
    "version": 3
   },
   "file_extension": ".py",
   "mimetype": "text/x-python",
   "name": "python",
   "nbconvert_exporter": "python",
   "pygments_lexer": "ipython3",
   "version": "3.11.12"
  }
 },
 "nbformat": 4,
 "nbformat_minor": 2
}
